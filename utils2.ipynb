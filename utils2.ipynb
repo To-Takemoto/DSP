{
 "cells": [
  {
   "cell_type": "code",
   "execution_count": 1,
   "metadata": {},
   "outputs": [],
   "source": [
    "import utils, settings\n",
    "import sqlite3\n",
    "db_path = utils.db_path"
   ]
  },
  {
   "cell_type": "code",
   "execution_count": 2,
   "metadata": {},
   "outputs": [],
   "source": [
    "def create_table(schema, table_name = None, db_path = None):\n",
    "    \"\"\"\n",
    "    与えられたカラムとテーブル名に従ってDBに新たにテーブルを作るための関数\n",
    "    \"\"\"\n",
    "    if db_path == None:\n",
    "        db_path = settings.db_path\n",
    "\n",
    "    if table_name == None:\n",
    "        table_name = schema[\"table_name\"]\n",
    "    columns = schema[\"columns\"]\n",
    "\n",
    "    columns_sql = \", \".join([f\"{col['name']} {col['type']}\" for col in columns])\n",
    "    create_table_sql = f\"CREATE TABLE IF NOT EXISTS {table_name} ({columns_sql});\"\n",
    "\n",
    "    conn = sqlite3.connect(db_path)\n",
    "    cursor = conn.cursor()\n",
    "\n",
    "    cursor.execute(create_table_sql)\n",
    "\n",
    "    conn.commit()\n",
    "    conn.close()"
   ]
  },
  {
   "cell_type": "code",
   "execution_count": 3,
   "metadata": {},
   "outputs": [],
   "source": [
    "schema = settings.screen_time_table_schema"
   ]
  },
  {
   "cell_type": "code",
   "execution_count": 4,
   "metadata": {},
   "outputs": [],
   "source": [
    "create_table(schema)"
   ]
  }
 ],
 "metadata": {
  "kernelspec": {
   "display_name": "DSP_venv",
   "language": "python",
   "name": "python3"
  },
  "language_info": {
   "codemirror_mode": {
    "name": "ipython",
    "version": 3
   },
   "file_extension": ".py",
   "mimetype": "text/x-python",
   "name": "python",
   "nbconvert_exporter": "python",
   "pygments_lexer": "ipython3",
   "version": "3.9.6"
  }
 },
 "nbformat": 4,
 "nbformat_minor": 2
}
