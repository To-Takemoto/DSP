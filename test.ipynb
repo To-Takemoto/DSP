{
 "cells": [
  {
   "cell_type": "code",
   "execution_count": 1,
   "metadata": {},
   "outputs": [],
   "source": [
    "import requests\n",
    "from bs4 import BeautifulSoup"
   ]
  },
  {
   "cell_type": "code",
   "execution_count": 2,
   "metadata": {},
   "outputs": [],
   "source": [
    "res = requests.get(\"https://www.mcsg.co.jp/kentatsu/health-care/36561\")\n",
    "soup = BeautifulSoup(res.text, 'html.parser')"
   ]
  },
  {
   "cell_type": "code",
   "execution_count": 3,
   "metadata": {},
   "outputs": [],
   "source": [
    "#top > div.wrapper-l-wrapper > div > main > div:nth-child(1) > div.postContents > section > div:nth-child(85) > div > table > tbody > tr:nth-child(3) > td:nth-child(2) > span\n",
    "#top > div.wrapper-l-wrapper > div > main > div:nth-child(1) > div.postContents > section > div:nth-child(85) > div > table > tbody > tr:nth-child(4) > td:nth-child(2) > span"
   ]
  },
  {
   "cell_type": "code",
   "execution_count": 12,
   "metadata": {},
   "outputs": [
    {
     "name": "stdout",
     "output_type": "stream",
     "text": [
      "['24', '97', '85', '37', '11', '0']\n"
     ]
    }
   ],
   "source": [
    "list_20s_man = []\n",
    "list_30s_man = []\n",
    "list_40s_man = []\n",
    "list_50s_man = []\n",
    "list_60s_man = []\n",
    "list_70s_man = []\n",
    "all_list = [list_20s_man, list_30s_man, list_40s_man, list_50s_man, list_60s_man, list_70s_man]\n",
    "\n",
    "nth = 2\n",
    "for list in all_list:\n",
    "    for i in range(3,9):\n",
    "        data = soup.select_one(f\"#top > div.wrapper-l-wrapper > div > main > div:nth-child(1) > div.postContents > section > div:nth-child(85) > div > table > tbody > tr:nth-child({i}) > td:nth-child({nth}) > span\")\n",
    "        data = data.text\n",
    "        list.append(data)\n",
    "    nth += 1\n",
    "print(all_list[1])"
   ]
  }
 ],
 "metadata": {
  "kernelspec": {
   "display_name": "DSP_venv",
   "language": "python",
   "name": "python3"
  },
  "language_info": {
   "codemirror_mode": {
    "name": "ipython",
    "version": 3
   },
   "file_extension": ".py",
   "mimetype": "text/x-python",
   "name": "python",
   "nbconvert_exporter": "python",
   "pygments_lexer": "ipython3",
   "version": "3.9.6"
  }
 },
 "nbformat": 4,
 "nbformat_minor": 2
}
